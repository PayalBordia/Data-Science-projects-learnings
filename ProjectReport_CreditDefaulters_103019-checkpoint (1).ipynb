{
 "cells": [
  {
   "cell_type": "markdown",
   "metadata": {},
   "source": [
    "# A Card issuing Bank has over issued its cash and credit card in-order-to increase its market share, even to unqualified applicants. At the same time, most cardholders, irrespective of their repayment ability, overused credit card for consumption and accumulated heavy credit and cash– card debts. The crisis caused the blow to consumer finance confidence and it is a big challenge for both banks and cardholders. From the perspective of risk control, estimating the probability of default will be more meaningful than classifying customers into the binary results – risky and non-risky.\n",
    "\n",
    "#Description of the Data:\n",
    "This research employed a binary variable – default payment, Y (Yes = 1, No = 0), as the response variable. \n",
    "\n",
    "This study used the following 23 variables as explanatory variables: \n",
    "\n",
    "#DATA DICTIONARY\n",
    "\n",
    "X1: Amount of the given credit (NT dollar): it includes both the individual consumer credit and his/her family (supplementary) credit. \n",
    "X2: Gender (1 = male; 2 = female). \n",
    "X3: Education (1 = graduate school; 2 = university; 3 = high school; 4 = others). \n",
    "X4: Marital status (1 = married; 2 = single; 3 = others). \n",
    "X5: Age (year). \n",
    "X6–X11: History of past payment. We tracked the past monthly payment records (from April to September, 2005) as follows: \n",
    "X6 = the repayment status in September, 2005; \n",
    "X7 = the repayment status in August, 2005; \n",
    "X8 = the repayment status in July, 2005;\n",
    "X9 = the repayment status in June, 2005;\n",
    "X10 = the repayment status in May, 2005;\n",
    "X11 = the repayment status in April, 2005. \n",
    "The measurement scale for the repayment status is: \n",
    "0 = pay duly; \n",
    "1 = payment delay for one month; \n",
    "2 = payment delay for two months; ...; \n",
    "8 = payment delay for eight months; \n",
    "9 = payment delay for nine months and above. \n",
    "\n",
    "X12–X17: Amount of bill statement (NT dollar). \n",
    "X12 = amount of bill statement in September,2005; \n",
    "X13 = amount of bill statement in August, 2005; \n",
    "X14 = amount of bill statement in July, 2005;\n",
    "X15 = amount of bill statement in June, 2005;\n",
    "X16 = amount of bill statement in May, 2005;\n",
    "X17 = amount of bill statement in April, 2005. \n",
    "\n",
    "X18–X23: Amount of previous payment (NT dollar). \n",
    "X18 = amount paid in September,2005; \n",
    "X19 = amount paid in August,2005; \n",
    "X20 = amount paid in July,2005; \n",
    "X21 = amount paid in June,2005; \n",
    "X22 = amount paid in May,2005; \n",
    "X23 = amount paid in April, 2005. \n",
    "\n",
    "#SQL / Dashboard Analytics tasks:\n",
    "•\tAnalyze the trend on outstanding amount for the bank \n",
    "o\tOverall outstanding amount trends\n",
    "o\tNumber of customers with outstanding amount (in different outstanding amount buckets)\n",
    "o\tAge of outstanding amount analysis\n",
    "•\tIs there any relationship between in outstanding amount / trend with respect to age, education, marriage, credit limit\n",
    "•\tDoes outstanding amount / trend affect the default behavior in next month.\n",
    "\n",
    "Modeling tasks:\n",
    "•\tDevelop a predictive model (more than 90% accurate) to predict chance of default (credit score of customer) in next month based on available information.\n",
    "•\tDevelop dashboard to present model statistics\n"
   ]
  },
  {
   "cell_type": "code",
   "execution_count": 3,
   "metadata": {},
   "outputs": [],
   "source": [
    "#Importing the required libraries\n",
    "\n",
    "import pandas as pd\n",
    "import numpy as np\n",
    "import matplotlib.pyplot as plt"
   ]
  },
  {
   "cell_type": "code",
   "execution_count": 4,
   "metadata": {},
   "outputs": [
    {
     "name": "stdout",
     "output_type": "stream",
     "text": [
      "<class 'pandas.core.frame.DataFrame'>\n",
      "RangeIndex: 30000 entries, 0 to 29999\n",
      "Data columns (total 25 columns):\n",
      "ID                            30000 non-null int64\n",
      "LIMIT_BAL                     30000 non-null int64\n",
      "SEX                           30000 non-null int64\n",
      "EDUCATION                     30000 non-null int64\n",
      "MARRIAGE                      30000 non-null int64\n",
      "AGE                           30000 non-null int64\n",
      "PAY_0                         30000 non-null int64\n",
      "PAY_2                         30000 non-null int64\n",
      "PAY_3                         30000 non-null int64\n",
      "PAY_4                         30000 non-null int64\n",
      "PAY_5                         30000 non-null int64\n",
      "PAY_6                         30000 non-null int64\n",
      "BILL_AMT1                     30000 non-null int64\n",
      "BILL_AMT2                     30000 non-null int64\n",
      "BILL_AMT3                     30000 non-null int64\n",
      "BILL_AMT4                     30000 non-null int64\n",
      "BILL_AMT5                     30000 non-null int64\n",
      "BILL_AMT6                     30000 non-null int64\n",
      "PAY_AMT1                      30000 non-null int64\n",
      "PAY_AMT2                      30000 non-null int64\n",
      "PAY_AMT3                      30000 non-null int64\n",
      "PAY_AMT4                      30000 non-null int64\n",
      "PAY_AMT5                      30000 non-null int64\n",
      "PAY_AMT6                      30000 non-null int64\n",
      "default payment next month    30000 non-null int64\n",
      "dtypes: int64(25)\n",
      "memory usage: 5.7 MB\n"
     ]
    }
   ],
   "source": [
    "#Reading the data from excel data file\n",
    "data_credit_df=pd.read_excel('C:\\\\Users\\Payal\\Downloads\\default_of_credit_card_clients_0.xlsx')\n",
    "data_credit_df.info()"
   ]
  },
  {
   "cell_type": "code",
   "execution_count": 89,
   "metadata": {},
   "outputs": [],
   "source": [
    "#SQL / Dashboard Analytics tasks: • Analyze the trend on outstanding amount for the bank o Overall outstanding amount trends\n",
    "\n",
    "#Creating 'Calculated columns of Outstanding Amount for each month by subtracting Bill Amount with the Pay Amount of the respective month'.\n",
    "\n",
    "data_credit_df['OUTSTANDING_AMT1_SEP2005']=data_credit_df['BILL_AMT1']-data_credit_df['PAY_AMT1']\n",
    "data_credit_df['OUTSTANDING_AMT2_AUG2005']=data_credit_df['BILL_AMT2']-data_credit_df['PAY_AMT2']\n",
    "data_credit_df['OUTSTANDING_AMT3_JUL2005']=data_credit_df['BILL_AMT3']-data_credit_df['PAY_AMT3']\n",
    "data_credit_df['OUTSTANDING_AMT4_JUN2005']=data_credit_df['BILL_AMT4']-data_credit_df['PAY_AMT4']\n",
    "data_credit_df['OUTSTANDING_AMT5_MAY2005']=data_credit_df['BILL_AMT5']-data_credit_df['PAY_AMT5']\n",
    "data_credit_df['OUTSTANDING_AMT6_APR2005']=data_credit_df['BILL_AMT6']-data_credit_df['PAY_AMT6']\n",
    "\n",
    "data_credit_df['OUTSTANDING_AMT_CUMULATIVE']= data_credit_df['OUTSTANDING_AMT1_SEP2005']+data_credit_df['OUTSTANDING_AMT2_AUG2005']+data_credit_df['OUTSTANDING_AMT3_JUL2005']+data_credit_df['OUTSTANDING_AMT4_JUN2005']+data_credit_df['OUTSTANDING_AMT5_MAY2005']+data_credit_df['OUTSTANDING_AMT6_APR2005']\n",
    "\n"
   ]
  },
  {
   "cell_type": "code",
   "execution_count": 90,
   "metadata": {},
   "outputs": [
    {
     "name": "stdout",
     "output_type": "stream",
     "text": [
      "<class 'pandas.core.frame.DataFrame'>\n",
      "RangeIndex: 30000 entries, 0 to 29999\n",
      "Data columns (total 32 columns):\n",
      "ID                            30000 non-null int64\n",
      "LIMIT_BAL                     30000 non-null int64\n",
      "SEX                           30000 non-null int64\n",
      "EDUCATION                     30000 non-null int64\n",
      "MARRIAGE                      30000 non-null int64\n",
      "AGE                           30000 non-null int64\n",
      "PAY_0                         30000 non-null int64\n",
      "PAY_2                         30000 non-null int64\n",
      "PAY_3                         30000 non-null int64\n",
      "PAY_4                         30000 non-null int64\n",
      "PAY_5                         30000 non-null int64\n",
      "PAY_6                         30000 non-null int64\n",
      "BILL_AMT1                     30000 non-null int64\n",
      "BILL_AMT2                     30000 non-null int64\n",
      "BILL_AMT3                     30000 non-null int64\n",
      "BILL_AMT4                     30000 non-null int64\n",
      "BILL_AMT5                     30000 non-null int64\n",
      "BILL_AMT6                     30000 non-null int64\n",
      "PAY_AMT1                      30000 non-null int64\n",
      "PAY_AMT2                      30000 non-null int64\n",
      "PAY_AMT3                      30000 non-null int64\n",
      "PAY_AMT4                      30000 non-null int64\n",
      "PAY_AMT5                      30000 non-null int64\n",
      "PAY_AMT6                      30000 non-null int64\n",
      "default payment next month    30000 non-null int64\n",
      "OUTSTANDING_AMT1_SEP2005      30000 non-null int64\n",
      "OUTSTANDING_AMT2_AUG2005      30000 non-null int64\n",
      "OUTSTANDING_AMT3_JUL2005      30000 non-null int64\n",
      "OUTSTANDING_AMT4_JUN2005      30000 non-null int64\n",
      "OUTSTANDING_AMT5_MAY2005      30000 non-null int64\n",
      "OUTSTANDING_AMT6_APR2005      30000 non-null int64\n",
      "OUTSTANDING_AMT_CUMULATIVE    30000 non-null int64\n",
      "dtypes: int64(32)\n",
      "memory usage: 7.3 MB\n"
     ]
    }
   ],
   "source": [
    "data_credit_df.info()"
   ]
  },
  {
   "cell_type": "markdown",
   "metadata": {},
   "source": [
    "# Analyze the trend on outstanding amount for the bank"
   ]
  },
  {
   "cell_type": "code",
   "execution_count": 91,
   "metadata": {},
   "outputs": [],
   "source": [
    "# Analyze the trend on outstanding amount for the bank\n",
    "SEP2005=data_credit_df['OUTSTANDING_AMT1_SEP2005'].sum()\n",
    "AUG2005=data_credit_df['OUTSTANDING_AMT2_AUG2005'].sum()\n",
    "JUL2005=data_credit_df['OUTSTANDING_AMT3_JUL2005'].sum()\n",
    "JUN2005=data_credit_df['OUTSTANDING_AMT4_JUN2005'].sum()\n",
    "MAY2005=data_credit_df['OUTSTANDING_AMT5_MAY2005'].sum()\n",
    "APR2005=data_credit_df['OUTSTANDING_AMT6_APR2005'].sum()\n",
    "CUMULATIVE=data_credit_df['OUTSTANDING_AMT_CUMULATIVE'].sum()"
   ]
  },
  {
   "cell_type": "code",
   "execution_count": 92,
   "metadata": {},
   "outputs": [
    {
     "name": "stdout",
     "output_type": "stream",
     "text": [
      "1366792512 1297737350 1253624199 1153106163 1065360400 1009687735 7146308359\n"
     ]
    }
   ],
   "source": [
    "print(SEP2005,AUG2005,JUL2005,JUN2005,MAY2005,APR2005,CUMULATIVE)"
   ]
  },
  {
   "cell_type": "code",
   "execution_count": 93,
   "metadata": {},
   "outputs": [
    {
     "name": "stdout",
     "output_type": "stream",
     "text": [
      "    PERIOD  OUTSTANDING_AMT\n",
      "0  APR2005       1009687735\n",
      "1  MAY2005       1065360400\n",
      "2  JUN2005       1153106163\n",
      "3  JUL2005       1253624199\n",
      "4  AUG2005       1297737350\n",
      "5  SEP2005       1366792512\n"
     ]
    }
   ],
   "source": [
    "OUTSTANDING_AMT_TREND={'PERIOD':('APR2005','MAY2005','JUN2005','JUL2005','AUG2005','SEP2005'), 'OUTSTANDING_AMT':(APR2005,MAY2005,JUN2005,JUL2005,AUG2005,SEP2005)}\n",
    "OUTSTANDING_AMT_TREND_DF=pd.DataFrame(OUTSTANDING_AMT_TREND)\n",
    "print(OUTSTANDING_AMT_TREND_DF)"
   ]
  },
  {
   "cell_type": "code",
   "execution_count": 94,
   "metadata": {},
   "outputs": [
    {
     "data": {
      "text/plain": [
       "<matplotlib.axes._subplots.AxesSubplot at 0x223d6aebf88>"
      ]
     },
     "execution_count": 94,
     "metadata": {},
     "output_type": "execute_result"
    },
    {
     "data": {
      "image/png": "[encoded data removed]",
      "text/plain": [
       "<Figure size 432x288 with 1 Axes>"
      ]
     },
     "metadata": {
      "needs_background": "light"
     },
     "output_type": "display_data"
    }
   ],
   "source": [
    "OUTSTANDING_AMT_TREND_DF.plot(kind='bar', x='PERIOD', y='OUTSTANDING_AMT')"
   ]
  },
  {
   "cell_type": "code",
   "execution_count": 95,
   "metadata": {},
   "outputs": [
    {
     "data": {
      "text/plain": [
       "<matplotlib.axes._subplots.AxesSubplot at 0x223d3d2a388>"
      ]
     },
     "execution_count": 95,
     "metadata": {},
     "output_type": "execute_result"
    },
    {
     "data": {
      "image/png": "[encoded data removed]",
      "text/plain": [
       "<Figure size 432x288 with 1 Axes>"
      ]
     },
     "metadata": {
      "needs_background": "light"
     },
     "output_type": "display_data"
    }
   ],
   "source": [
    "OUTSTANDING_AMT_TREND_DF.plot(kind='line', x='PERIOD', y='OUTSTANDING_AMT', )"
   ]
  },
  {
   "cell_type": "code",
   "execution_count": 96,
   "metadata": {},
   "outputs": [],
   "source": [
    "# The above bar and line graph of 'Period' versus 'Outstanding_Amt' show that there has been an increasing trend (35% increase) in the Outstanding_Amt\n",
    "#from Apr2005 to Sep2005. "
   ]
  },
  {
   "cell_type": "markdown",
   "metadata": {},
   "source": [
    "# Overall outstanding amount trends"
   ]
  },
  {
   "cell_type": "code",
   "execution_count": 97,
   "metadata": {},
   "outputs": [],
   "source": [
    "# Also checking for the difference between the 'LIMIT_BAL' and the calculated column 'OUTSTANDING_AMT_CUMULATIVE'\n",
    "# A negative difference could be an increased indication of defaulting\n",
    "\n",
    "data_credit_df['DEFAULT_INDICATOR_1']=data_credit_df['LIMIT_BAL']-data_credit_df['OUTSTANDING_AMT_CUMULATIVE']\n"
   ]
  },
  {
   "cell_type": "code",
   "execution_count": 98,
   "metadata": {},
   "outputs": [],
   "source": [
    "data_credit_df['DEFAULT_INDICATOR_1_FILTERED']=(data_credit_df['DEFAULT_INDICATOR_1']<0)"
   ]
  },
  {
   "cell_type": "code",
   "execution_count": 99,
   "metadata": {},
   "outputs": [
    {
     "data": {
      "text/plain": [
       "0        False\n",
       "1        False\n",
       "2         True\n",
       "3         True\n",
       "4         True\n",
       "         ...  \n",
       "29995     True\n",
       "29996    False\n",
       "29997     True\n",
       "29998     True\n",
       "29999     True\n",
       "Name: DEFAULT_INDICATOR_1_FILTERED, Length: 30000, dtype: bool"
      ]
     },
     "execution_count": 99,
     "metadata": {},
     "output_type": "execute_result"
    }
   ],
   "source": [
    "data_credit_df['DEFAULT_INDICATOR_1_FILTERED']"
   ]
  },
  {
   "cell_type": "code",
   "execution_count": 100,
   "metadata": {
    "scrolled": true
   },
   "outputs": [
    {
     "data": {
      "text/plain": [
       "<matplotlib.axes._subplots.AxesSubplot at 0x223d3808ec8>"
      ]
     },
     "execution_count": 100,
     "metadata": {},
     "output_type": "execute_result"
    },
    {
     "data": {
      "image/png": "[encoded data removed]",
      "text/plain": [
       "<Figure size 432x288 with 1 Axes>"
      ]
     },
     "metadata": {
      "needs_background": "light"
     },
     "output_type": "display_data"
    }
   ],
   "source": [
    "data_credit_df.plot.scatter(x='DEFAULT_INDICATOR_1', y='default payment next month')"
   ]
  },
  {
   "cell_type": "code",
   "execution_count": 101,
   "metadata": {},
   "outputs": [],
   "source": [
    "# In the above graph the negative values of 'Default Indicator_1'coinsides with the value of 1 in the 'response variable'which is 'default payment next month'.\n",
    "#the next step is to create a scatter plot and pivot table to ascertain when the default values matches between the response variable\n",
    "# and the calculated default variable."
   ]
  },
  {
   "cell_type": "code",
   "execution_count": 102,
   "metadata": {},
   "outputs": [],
   "source": [
    "data_credit_df['DEFAULT_INDICATOR_1_FILTERED_CODED']=data_credit_df['DEFAULT_INDICATOR_1_FILTERED'].replace([True,False], [1,0])"
   ]
  },
  {
   "cell_type": "code",
   "execution_count": 103,
   "metadata": {},
   "outputs": [
    {
     "name": "stdout",
     "output_type": "stream",
     "text": [
      "0        0\n",
      "1        0\n",
      "2        1\n",
      "3        1\n",
      "4        1\n",
      "        ..\n",
      "29995    1\n",
      "29996    0\n",
      "29997    1\n",
      "29998    1\n",
      "29999    1\n",
      "Name: DEFAULT_INDICATOR_1_FILTERED_CODED, Length: 30000, dtype: int64\n"
     ]
    }
   ],
   "source": [
    "print(data_credit_df['DEFAULT_INDICATOR_1_FILTERED_CODED'])"
   ]
  },
  {
   "cell_type": "code",
   "execution_count": 104,
   "metadata": {
    "scrolled": true
   },
   "outputs": [
    {
     "data": {
      "text/plain": [
       "<matplotlib.axes._subplots.AxesSubplot at 0x223d1cf77c8>"
      ]
     },
     "execution_count": 104,
     "metadata": {},
     "output_type": "execute_result"
    },
    {
     "data": {
      "image/png": "[encoded data removed]",
      "text/plain": [
       "<Figure size 432x288 with 2 Axes>"
      ]
     },
     "metadata": {
      "needs_background": "light"
     },
     "output_type": "display_data"
    }
   ],
   "source": [
    "data_credit_df.plot.scatter(x='DEFAULT_INDICATOR_1_FILTERED_CODED', y='default payment next month', c='ID',colormap='viridis')"
   ]
  },
  {
   "cell_type": "code",
   "execution_count": 105,
   "metadata": {},
   "outputs": [
    {
     "data": {
      "text/html": [
       "<div>\n",
       "<style scoped>\n",
       "    .dataframe tbody tr th:only-of-type {\n",
       "        vertical-align: middle;\n",
       "    }\n",
       "\n",
       "    .dataframe tbody tr th {\n",
       "        vertical-align: top;\n",
       "    }\n",
       "\n",
       "    .dataframe thead tr th {\n",
       "        text-align: left;\n",
       "    }\n",
       "\n",
       "    .dataframe thead tr:last-of-type th {\n",
       "        text-align: right;\n",
       "    }\n",
       "</style>\n",
       "<table border=\"1\" class=\"dataframe\">\n",
       "  <thead>\n",
       "    <tr>\n",
       "      <th></th>\n",
       "      <th colspan=\"2\" halign=\"left\">ID</th>\n",
       "    </tr>\n",
       "    <tr>\n",
       "      <th>default payment next month</th>\n",
       "      <th>0</th>\n",
       "      <th>1</th>\n",
       "    </tr>\n",
       "    <tr>\n",
       "      <th>DEFAULT_INDICATOR_1_FILTERED_CODED</th>\n",
       "      <th></th>\n",
       "      <th></th>\n",
       "    </tr>\n",
       "  </thead>\n",
       "  <tbody>\n",
       "    <tr>\n",
       "      <td>0</td>\n",
       "      <td>11315</td>\n",
       "      <td>2449</td>\n",
       "    </tr>\n",
       "    <tr>\n",
       "      <td>1</td>\n",
       "      <td>12049</td>\n",
       "      <td>4187</td>\n",
       "    </tr>\n",
       "  </tbody>\n",
       "</table>\n",
       "</div>"
      ],
      "text/plain": [
       "                                       ID      \n",
       "default payment next month              0     1\n",
       "DEFAULT_INDICATOR_1_FILTERED_CODED             \n",
       "0                                   11315  2449\n",
       "1                                   12049  4187"
      ]
     },
     "execution_count": 105,
     "metadata": {},
     "output_type": "execute_result"
    }
   ],
   "source": [
    "pd.pivot_table(data_credit_df, values=['ID'],index=['DEFAULT_INDICATOR_1_FILTERED_CODED'], columns=['default payment next month'],aggfunc=np.count_nonzero)"
   ]
  },
  {
   "cell_type": "code",
   "execution_count": 106,
   "metadata": {},
   "outputs": [],
   "source": [
    "# The above pivot table shows the distribution of 30,000 records between the 4 groups. \n",
    "# 11315 and 4187 (15502) are the number of records where the response variable and the calculated variable match for \n",
    "# non-defaulters and defaulters respectively.\n",
    "# 12049 and 2249 (14498) are the number of records where the two variable do not match\n",
    "# Thus, there is approximately 50% accuracy of determining the defaulters by this method"
   ]
  },
  {
   "cell_type": "markdown",
   "metadata": {},
   "source": [
    "# Number of customers with outstanding amount (in different outstanding amount buckets) "
   ]
  },
  {
   "cell_type": "code",
   "execution_count": 107,
   "metadata": {},
   "outputs": [],
   "source": [
    "PAY_0_COUNT=pd.value_counts(data_credit_df.PAY_0)"
   ]
  },
  {
   "cell_type": "code",
   "execution_count": 108,
   "metadata": {},
   "outputs": [],
   "source": [
    "PAY_0_COUNT=pd.value_counts(data_credit_df.PAY_0)\n",
    "PAY_2_COUNT=pd.value_counts(data_credit_df.PAY_2)\n",
    "PAY_3_COUNT=pd.value_counts(data_credit_df.PAY_3)\n",
    "PAY_4_COUNT=pd.value_counts(data_credit_df.PAY_4)\n",
    "PAY_5_COUNT=pd.value_counts(data_credit_df.PAY_5)\n",
    "PAY_6_COUNT=pd.value_counts(data_credit_df.PAY_6)"
   ]
  },
  {
   "cell_type": "code",
   "execution_count": 109,
   "metadata": {},
   "outputs": [
    {
     "name": "stdout",
     "output_type": "stream",
     "text": [
      "0    23182\n",
      "1     3688\n",
      "2     2667\n",
      "3      322\n",
      "4       76\n",
      "5       26\n",
      "8       19\n",
      "6       11\n",
      "7        9\n",
      "Name: PAY_0, dtype: int64 0    25562\n",
      "2     3927\n",
      "3      326\n",
      "4       99\n",
      "1       28\n",
      "5       25\n",
      "7       20\n",
      "6       12\n",
      "8        1\n",
      "Name: PAY_2, dtype: int64 0    25787\n",
      "2     3819\n",
      "3      240\n",
      "4       76\n",
      "7       27\n",
      "6       23\n",
      "5       21\n",
      "1        4\n",
      "8        3\n",
      "Name: PAY_3, dtype: int64 0    26490\n",
      "2     3159\n",
      "3      180\n",
      "4       69\n",
      "7       58\n",
      "5       35\n",
      "6        5\n",
      "8        2\n",
      "1        2\n",
      "Name: PAY_4, dtype: int64 0    27032\n",
      "2     2626\n",
      "3      178\n",
      "4       84\n",
      "7       58\n",
      "5       17\n",
      "6        4\n",
      "8        1\n",
      "Name: PAY_5, dtype: int64 0    26921\n",
      "2     2766\n",
      "3      184\n",
      "4       49\n",
      "7       46\n",
      "6       19\n",
      "5       13\n",
      "8        2\n",
      "Name: PAY_6, dtype: int64\n"
     ]
    }
   ],
   "source": [
    "print(PAY_0_COUNT,PAY_2_COUNT,PAY_3_COUNT,PAY_4_COUNT,PAY_5_COUNT,PAY_6_COUNT)"
   ]
  },
  {
   "cell_type": "code",
   "execution_count": 110,
   "metadata": {},
   "outputs": [],
   "source": [
    "# The above 'value_counts' output of the respective 6 PAY_STATUS gives the count of customers in the respective\n",
    "# outstanding amounts buckets for each of the month\n",
    "\n",
    "# ? But the codes are not in a specific order for each of the outstanding payment, so using another method(groupby)"
   ]
  },
  {
   "cell_type": "code",
   "execution_count": 111,
   "metadata": {},
   "outputs": [],
   "source": [
    "# Using the df.groupby method for getting the above outstanding amount bucket"
   ]
  },
  {
   "cell_type": "code",
   "execution_count": 112,
   "metadata": {},
   "outputs": [
    {
     "name": "stdout",
     "output_type": "stream",
     "text": [
      "PAY_0\n",
      "0    23182\n",
      "1     3688\n",
      "2     2667\n",
      "3      322\n",
      "4       76\n",
      "5       26\n",
      "6       11\n",
      "7        9\n",
      "8       19\n",
      "Name: LIMIT_BAL, dtype: int64 PAY_2\n",
      "0    25562\n",
      "1       28\n",
      "2     3927\n",
      "3      326\n",
      "4       99\n",
      "5       25\n",
      "6       12\n",
      "7       20\n",
      "8        1\n",
      "Name: LIMIT_BAL, dtype: int64 PAY_3\n",
      "0    25787\n",
      "1        4\n",
      "2     3819\n",
      "3      240\n",
      "4       76\n",
      "5       21\n",
      "6       23\n",
      "7       27\n",
      "8        3\n",
      "Name: LIMIT_BAL, dtype: int64 PAY_4\n",
      "0    26490\n",
      "1        2\n",
      "2     3159\n",
      "3      180\n",
      "4       69\n",
      "5       35\n",
      "6        5\n",
      "7       58\n",
      "8        2\n",
      "Name: LIMIT_BAL, dtype: int64 PAY_5\n",
      "0    27032\n",
      "2     2626\n",
      "3      178\n",
      "4       84\n",
      "5       17\n",
      "6        4\n",
      "7       58\n",
      "8        1\n",
      "Name: LIMIT_BAL, dtype: int64 PAY_6\n",
      "0    26921\n",
      "2     2766\n",
      "3      184\n",
      "4       49\n",
      "5       13\n",
      "6       19\n",
      "7       46\n",
      "8        2\n",
      "Name: LIMIT_BAL, dtype: int64\n"
     ]
    }
   ],
   "source": [
    "P0=data_credit_df.groupby('PAY_0').agg(np.count_nonzero).iloc[:,1]\n",
    "P2=data_credit_df.groupby('PAY_2').agg(np.count_nonzero).iloc[:,1]\n",
    "P3=data_credit_df.groupby('PAY_3').agg(np.count_nonzero).iloc[:,1]\n",
    "P4=data_credit_df.groupby('PAY_4').agg(np.count_nonzero).iloc[:,1]\n",
    "P5=data_credit_df.groupby('PAY_5').agg(np.count_nonzero).iloc[:,1]\n",
    "P6=data_credit_df.groupby('PAY_6').agg(np.count_nonzero).iloc[:,1]\n",
    "print(P0,P2,P3,P4,P5,P6)"
   ]
  },
  {
   "cell_type": "code",
   "execution_count": 113,
   "metadata": {},
   "outputs": [],
   "source": [
    "P_STATUS_DF=pd.DataFrame({'PAY0':P0,'PAY2':P2,'PAY3':P3,'PAY4':P4,'PAY5':P5,'PAY6':P6})"
   ]
  },
  {
   "cell_type": "code",
   "execution_count": 114,
   "metadata": {},
   "outputs": [
    {
     "name": "stdout",
     "output_type": "stream",
     "text": [
      "    PAY0   PAY2   PAY3   PAY4     PAY5     PAY6\n",
      "0  23182  25562  25787  26490  27032.0  26921.0\n",
      "1   3688     28      4      2      NaN      NaN\n",
      "2   2667   3927   3819   3159   2626.0   2766.0\n",
      "3    322    326    240    180    178.0    184.0\n",
      "4     76     99     76     69     84.0     49.0\n",
      "5     26     25     21     35     17.0     13.0\n",
      "6     11     12     23      5      4.0     19.0\n",
      "7      9     20     27     58     58.0     46.0\n",
      "8     19      1      3      2      1.0      2.0\n"
     ]
    }
   ],
   "source": [
    "# Number of customers with outstanding amount (in different outstanding amount buckets)\n",
    "# ? What kind of visualization be apt for this dataset?\n",
    "print(P_STATUS_DF)"
   ]
  },
  {
   "cell_type": "markdown",
   "metadata": {},
   "source": [
    "# Age of outstanding amount analysis "
   ]
  },
  {
   "cell_type": "code",
   "execution_count": 1,
   "metadata": {},
   "outputs": [],
   "source": [
    "import seaborn as sns"
   ]
  },
  {
   "cell_type": "code",
   "execution_count": 5,
   "metadata": {
    "scrolled": true
   },
   "outputs": [
    {
     "data": {
      "text/plain": [
       "<matplotlib.axes._subplots.AxesSubplot at 0x203612969b0>"
      ]
     },
     "execution_count": 5,
     "metadata": {},
     "output_type": "execute_result"
    },
    {
     "data": {
      "image/png": "[encoded data removed]",
      "text/plain": [
       "<Figure size 432x288 with 1 Axes>"
      ]
     },
     "metadata": {
      "needs_background": "light"
     },
     "output_type": "display_data"
    }
   ],
   "source": [
    "sns.countplot(data_credit_df['AGE'])"
   ]
  },
  {
   "cell_type": "code",
   "execution_count": 7,
   "metadata": {
    "scrolled": true
   },
   "outputs": [
    {
     "data": {
      "text/plain": [
       "<matplotlib.axes._subplots.AxesSubplot at 0x2036466e080>"
      ]
     },
     "execution_count": 7,
     "metadata": {},
     "output_type": "execute_result"
    },
    {
     "data": {
      "image/png": "[encoded data removed]",
      "text/plain": [
       "<Figure size 432x288 with 1 Axes>"
      ]
     },
     "metadata": {
      "needs_background": "light"
     },
     "output_type": "display_data"
    }
   ],
   "source": [
    "data_credit_df['AGE'].hist()"
   ]
  },
  {
   "cell_type": "code",
   "execution_count": 9,
   "metadata": {},
   "outputs": [
    {
     "name": "stderr",
     "output_type": "stream",
     "text": [
      "C:\\Users\\Payal\\Anaconda3\\lib\\site-packages\\scipy\\stats\\stats.py:1713: FutureWarning: Using a non-tuple sequence for multidimensional indexing is deprecated; use `arr[tuple(seq)]` instead of `arr[seq]`. In the future this will be interpreted as an array index, `arr[np.array(seq)]`, which will result either in an error or a different result.\n",
      "  return np.add.reduce(sorted[indexer] * weights, axis=axis) / sumval\n"
     ]
    },
    {
     "data": {
      "text/plain": [
       "<matplotlib.axes._subplots.AxesSubplot at 0x203646be2e8>"
      ]
     },
     "execution_count": 9,
     "metadata": {},
     "output_type": "execute_result"
    },
    {
     "data": {
      "image/png": "[encoded data removed]",
      "text/plain": [
       "<Figure size 432x288 with 1 Axes>"
      ]
     },
     "metadata": {
      "needs_background": "light"
     },
     "output_type": "display_data"
    }
   ],
   "source": [
    "sns.distplot(data_credit_df['AGE'])"
   ]
  },
  {
   "cell_type": "code",
   "execution_count": 10,
   "metadata": {},
   "outputs": [
    {
     "data": {
      "text/plain": [
       "count    30000.000000\n",
       "mean        35.485500\n",
       "std          9.217904\n",
       "min         21.000000\n",
       "25%         28.000000\n",
       "50%         34.000000\n",
       "75%         41.000000\n",
       "max         79.000000\n",
       "Name: AGE, dtype: float64"
      ]
     },
     "execution_count": 10,
     "metadata": {},
     "output_type": "execute_result"
    }
   ],
   "source": [
    "data_credit_df['AGE'].describe()"
   ]
  },
  {
   "cell_type": "code",
   "execution_count": 11,
   "metadata": {
    "scrolled": true
   },
   "outputs": [
    {
     "data": {
      "text/plain": [
       "<matplotlib.axes._subplots.AxesSubplot at 0x2036488ba58>"
      ]
     },
     "execution_count": 11,
     "metadata": {},
     "output_type": "execute_result"
    },
    {
     "data": {
      "image/png": "[encoded data removed]",
      "text/plain": [
       "<Figure size 432x288 with 1 Axes>"
      ]
     },
     "metadata": {
      "needs_background": "light"
     },
     "output_type": "display_data"
    }
   ],
   "source": [
    "sns.boxplot(data_credit_df['AGE'])"
   ]
  },
  {
   "cell_type": "code",
   "execution_count": 13,
   "metadata": {},
   "outputs": [
    {
     "data": {
      "text/plain": [
       "0.7322092559811012"
      ]
     },
     "execution_count": 13,
     "metadata": {},
     "output_type": "execute_result"
    }
   ],
   "source": [
    "from scipy.stats import skew\n",
    "skew(data_credit_df['AGE'])"
   ]
  },
  {
   "cell_type": "code",
   "execution_count": 14,
   "metadata": {},
   "outputs": [
    {
     "data": {
      "text/plain": [
       "0.044096001350454994"
      ]
     },
     "execution_count": 14,
     "metadata": {},
     "output_type": "execute_result"
    }
   ],
   "source": [
    "from scipy.stats import kurtosis\n",
    "kurtosis(data_credit_df['AGE'])"
   ]
  },
  {
   "cell_type": "code",
   "execution_count": 15,
   "metadata": {},
   "outputs": [],
   "source": [
    "# Since most of the age data lies between 28 to 34 years (because of positive skewness), the model to predict defaulter probability\n",
    "# will be more accurate to this age group as compared to other age groups."
   ]
  },
  {
   "cell_type": "code",
   "execution_count": 115,
   "metadata": {},
   "outputs": [
    {
     "data": {
      "text/plain": [
       "<matplotlib.axes._subplots.AxesSubplot at 0x223d11347c8>"
      ]
     },
     "execution_count": 115,
     "metadata": {},
     "output_type": "execute_result"
    },
    {
     "data": {
      "image/png": "[encoded data removed]",
      "text/plain": [
       "<Figure size 432x288 with 1 Axes>"
      ]
     },
     "metadata": {
      "needs_background": "light"
     },
     "output_type": "display_data"
    }
   ],
   "source": [
    "data_credit_df.plot.scatter(x='AGE', y='OUTSTANDING_AMT_CUMULATIVE')"
   ]
  },
  {
   "cell_type": "code",
   "execution_count": 116,
   "metadata": {},
   "outputs": [
    {
     "data": {
      "text/plain": [
       "0.05063377067369789"
      ]
     },
     "execution_count": 116,
     "metadata": {},
     "output_type": "execute_result"
    }
   ],
   "source": [
    "data_credit_df['AGE'].corr(data_credit_df['OUTSTANDING_AMT_CUMULATIVE'])"
   ]
  },
  {
   "cell_type": "code",
   "execution_count": 117,
   "metadata": {
    "scrolled": true
   },
   "outputs": [
    {
     "data": {
      "text/plain": [
       "<matplotlib.axes._subplots.AxesSubplot at 0x223d19c8588>"
      ]
     },
     "execution_count": 117,
     "metadata": {},
     "output_type": "execute_result"
    },
    {
     "data": {
      "image/png": "[encoded data removed]",
      "text/plain": [
       "<Figure size 432x288 with 1 Axes>"
      ]
     },
     "metadata": {
      "needs_background": "light"
     },
     "output_type": "display_data"
    }
   ],
   "source": [
    "data_credit_df.plot.scatter(x='AGE', y='DEFAULT_INDICATOR_1')"
   ]
  },
  {
   "cell_type": "code",
   "execution_count": 118,
   "metadata": {},
   "outputs": [
    {
     "data": {
      "text/plain": [
       "0.0010986913448737031"
      ]
     },
     "execution_count": 118,
     "metadata": {},
     "output_type": "execute_result"
    }
   ],
   "source": [
    "data_credit_df['AGE'].corr(data_credit_df['DEFAULT_INDICATOR_1'])"
   ]
  },
  {
   "cell_type": "code",
   "execution_count": 119,
   "metadata": {},
   "outputs": [
    {
     "data": {
      "text/plain": [
       "<matplotlib.axes._subplots.AxesSubplot at 0x223d6ad8808>"
      ]
     },
     "execution_count": 119,
     "metadata": {},
     "output_type": "execute_result"
    },
    {
     "data": {
      "image/png": "[encoded data removed]",
      "text/plain": [
       "<Figure size 432x288 with 1 Axes>"
      ]
     },
     "metadata": {
      "needs_background": "light"
     },
     "output_type": "display_data"
    }
   ],
   "source": [
    "data_credit_df.plot.scatter(x='AGE', y='DEFAULT_INDICATOR_1_FILTERED_CODED')"
   ]
  },
  {
   "cell_type": "code",
   "execution_count": 120,
   "metadata": {},
   "outputs": [
    {
     "data": {
      "text/plain": [
       "-0.04249452425059881"
      ]
     },
     "execution_count": 120,
     "metadata": {},
     "output_type": "execute_result"
    }
   ],
   "source": [
    "data_credit_df['AGE'].corr(data_credit_df['DEFAULT_INDICATOR_1_FILTERED_CODED'])"
   ]
  },
  {
   "cell_type": "code",
   "execution_count": 121,
   "metadata": {},
   "outputs": [],
   "source": [
    "# The above scatter plots and Pearson's coefficient values tells that 'age' has not trending relationship with 'outstanding amount' and defaulting properties."
   ]
  },
  {
   "cell_type": "code",
   "execution_count": 122,
   "metadata": {},
   "outputs": [
    {
     "data": {
      "text/plain": [
       "<matplotlib.axes._subplots.AxesSubplot at 0x223d6ab9c48>"
      ]
     },
     "execution_count": 122,
     "metadata": {},
     "output_type": "execute_result"
    },
    {
     "data": {
      "image/png": "[encoded data removed]",
      "text/plain": [
       "<Figure size 432x288 with 1 Axes>"
      ]
     },
     "metadata": {
      "needs_background": "light"
     },
     "output_type": "display_data"
    }
   ],
   "source": [
    "data_credit_df.plot.scatter(x='AGE', y='default payment next month')"
   ]
  },
  {
   "cell_type": "code",
   "execution_count": 123,
   "metadata": {},
   "outputs": [
    {
     "data": {
      "text/plain": [
       "0.013889834301963224"
      ]
     },
     "execution_count": 123,
     "metadata": {},
     "output_type": "execute_result"
    }
   ],
   "source": [
    "data_credit_df['AGE'].corr(data_credit_df['default payment next month'])"
   ]
  },
  {
   "cell_type": "code",
   "execution_count": 124,
   "metadata": {},
   "outputs": [],
   "source": [
    "# The above conclusion about no dependence of age on outstanding amount and defaulting, is further reinstated\n",
    "# by the above scatter plot and correlation coefficient value between 'age' and the response variable 'default payment next month'."
   ]
  },
  {
   "cell_type": "markdown",
   "metadata": {},
   "source": [
    "# Is there any relationship between in outstanding amount / trend with respect to age, education, marriage, credit limit \n",
    "# Does outstanding amount / trend affect the default behavior in next month."
   ]
  },
  {
   "cell_type": "code",
   "execution_count": 125,
   "metadata": {},
   "outputs": [
    {
     "data": {
      "text/plain": [
       "<matplotlib.axes._subplots.AxesSubplot at 0x223d233f708>"
      ]
     },
     "execution_count": 125,
     "metadata": {},
     "output_type": "execute_result"
    },
    {
     "data": {
      "image/png": "[encoded data removed]",
      "text/plain": [
       "<Figure size 432x288 with 1 Axes>"
      ]
     },
     "metadata": {
      "needs_background": "light"
     },
     "output_type": "display_data"
    }
   ],
   "source": [
    "data_credit_df.plot.scatter(x='EDUCATION', y='OUTSTANDING_AMT_CUMULATIVE')"
   ]
  },
  {
   "cell_type": "code",
   "execution_count": 126,
   "metadata": {},
   "outputs": [
    {
     "data": {
      "text/plain": [
       "0.01881803456387278"
      ]
     },
     "execution_count": 126,
     "metadata": {},
     "output_type": "execute_result"
    }
   ],
   "source": [
    "data_credit_df['EDUCATION'].corr(data_credit_df['OUTSTANDING_AMT_CUMULATIVE'])"
   ]
  },
  {
   "cell_type": "code",
   "execution_count": 128,
   "metadata": {},
   "outputs": [
    {
     "data": {
      "text/plain": [
       "<matplotlib.axes._subplots.AxesSubplot at 0x223d26c7208>"
      ]
     },
     "execution_count": 128,
     "metadata": {},
     "output_type": "execute_result"
    },
    {
     "data": {
      "image/png": "[encoded data removed]",
      "text/plain": [
       "<Figure size 432x288 with 1 Axes>"
      ]
     },
     "metadata": {
      "needs_background": "light"
     },
     "output_type": "display_data"
    }
   ],
   "source": [
    "data_credit_df.plot.scatter(x='MARRIAGE', y='OUTSTANDING_AMT_CUMULATIVE')"
   ]
  },
  {
   "cell_type": "code",
   "execution_count": 129,
   "metadata": {},
   "outputs": [
    {
     "data": {
      "text/plain": [
       "-0.023733677732303914"
      ]
     },
     "execution_count": 129,
     "metadata": {},
     "output_type": "execute_result"
    }
   ],
   "source": [
    "data_credit_df['MARRIAGE'].corr(data_credit_df['OUTSTANDING_AMT_CUMULATIVE'])"
   ]
  },
  {
   "cell_type": "code",
   "execution_count": 130,
   "metadata": {},
   "outputs": [
    {
     "data": {
      "text/plain": [
       "<matplotlib.axes._subplots.AxesSubplot at 0x223d2a4a148>"
      ]
     },
     "execution_count": 130,
     "metadata": {},
     "output_type": "execute_result"
    },
    {
     "data": {
      "image/png": "[encoded data removed]",
      "text/plain": [
       "<Figure size 432x288 with 1 Axes>"
      ]
     },
     "metadata": {
      "needs_background": "light"
     },
     "output_type": "display_data"
    }
   ],
   "source": [
    "data_credit_df.plot.scatter(x='SEX', y='OUTSTANDING_AMT_CUMULATIVE')"
   ]
  },
  {
   "cell_type": "code",
   "execution_count": 131,
   "metadata": {},
   "outputs": [
    {
     "data": {
      "text/plain": [
       "-0.026272161996610557"
      ]
     },
     "execution_count": 131,
     "metadata": {},
     "output_type": "execute_result"
    }
   ],
   "source": [
    "data_credit_df['SEX'].corr(data_credit_df['OUTSTANDING_AMT_CUMULATIVE'])"
   ]
  },
  {
   "cell_type": "code",
   "execution_count": 132,
   "metadata": {},
   "outputs": [],
   "source": [
    "# The above scatter plots and correlation coefficient suggest no dependency on outstanding amount and age, education, gender, marial status"
   ]
  },
  {
   "cell_type": "code",
   "execution_count": 133,
   "metadata": {},
   "outputs": [
    {
     "data": {
      "text/plain": [
       "<matplotlib.axes._subplots.AxesSubplot at 0x223d3674d48>"
      ]
     },
     "execution_count": 133,
     "metadata": {},
     "output_type": "execute_result"
    },
    {
     "data": {
      "image/png": "[encoded data removed]",
      "text/plain": [
       "<Figure size 432x288 with 1 Axes>"
      ]
     },
     "metadata": {
      "needs_background": "light"
     },
     "output_type": "display_data"
    }
   ],
   "source": [
    "data_credit_df.plot.scatter(x='LIMIT_BAL', y='OUTSTANDING_AMT_CUMULATIVE')"
   ]
  },
  {
   "cell_type": "code",
   "execution_count": 134,
   "metadata": {},
   "outputs": [
    {
     "data": {
      "text/plain": [
       "0.25661573580830166"
      ]
     },
     "execution_count": 134,
     "metadata": {},
     "output_type": "execute_result"
    }
   ],
   "source": [
    "data_credit_df['LIMIT_BAL'].corr(data_credit_df['OUTSTANDING_AMT_CUMULATIVE'])"
   ]
  },
  {
   "cell_type": "code",
   "execution_count": 135,
   "metadata": {},
   "outputs": [],
   "source": [
    "# There is slight positive correlation between Outstanding Amount and Credit Limit as seen by the scatter plot and coefficient of 0.256"
   ]
  },
  {
   "cell_type": "code",
   "execution_count": 136,
   "metadata": {},
   "outputs": [
    {
     "name": "stdout",
     "output_type": "stream",
     "text": [
      "<class 'pandas.core.frame.DataFrame'>\n",
      "RangeIndex: 30000 entries, 0 to 29999\n",
      "Data columns (total 35 columns):\n",
      "ID                                    30000 non-null int64\n",
      "LIMIT_BAL                             30000 non-null int64\n",
      "SEX                                   30000 non-null int64\n",
      "EDUCATION                             30000 non-null int64\n",
      "MARRIAGE                              30000 non-null int64\n",
      "AGE                                   30000 non-null int64\n",
      "PAY_0                                 30000 non-null int64\n",
      "PAY_2                                 30000 non-null int64\n",
      "PAY_3                                 30000 non-null int64\n",
      "PAY_4                                 30000 non-null int64\n",
      "PAY_5                                 30000 non-null int64\n",
      "PAY_6                                 30000 non-null int64\n",
      "BILL_AMT1                             30000 non-null int64\n",
      "BILL_AMT2                             30000 non-null int64\n",
      "BILL_AMT3                             30000 non-null int64\n",
      "BILL_AMT4                             30000 non-null int64\n",
      "BILL_AMT5                             30000 non-null int64\n",
      "BILL_AMT6                             30000 non-null int64\n",
      "PAY_AMT1                              30000 non-null int64\n",
      "PAY_AMT2                              30000 non-null int64\n",
      "PAY_AMT3                              30000 non-null int64\n",
      "PAY_AMT4                              30000 non-null int64\n",
      "PAY_AMT5                              30000 non-null int64\n",
      "PAY_AMT6                              30000 non-null int64\n",
      "default payment next month            30000 non-null int64\n",
      "OUTSTANDING_AMT1_SEP2005              30000 non-null int64\n",
      "OUTSTANDING_AMT2_AUG2005              30000 non-null int64\n",
      "OUTSTANDING_AMT3_JUL2005              30000 non-null int64\n",
      "OUTSTANDING_AMT4_JUN2005              30000 non-null int64\n",
      "OUTSTANDING_AMT5_MAY2005              30000 non-null int64\n",
      "OUTSTANDING_AMT6_APR2005              30000 non-null int64\n",
      "OUTSTANDING_AMT_CUMULATIVE            30000 non-null int64\n",
      "DEFAULT_INDICATOR_1                   30000 non-null int64\n",
      "DEFAULT_INDICATOR_1_FILTERED          30000 non-null bool\n",
      "DEFAULT_INDICATOR_1_FILTERED_CODED    30000 non-null int64\n",
      "dtypes: bool(1), int64(34)\n",
      "memory usage: 7.8 MB\n"
     ]
    }
   ],
   "source": [
    "data_credit_df.info()"
   ]
  },
  {
   "cell_type": "code",
   "execution_count": 137,
   "metadata": {},
   "outputs": [],
   "source": [
    "# Creating a calculated column of Pay_status, which is a cumulative of all the 6 codes of pay status each month\n",
    "data_credit_df['PAY_STATUS']=data_credit_df['PAY_0']+data_credit_df['PAY_2']+data_credit_df['PAY_3']+data_credit_df['PAY_4']+data_credit_df['PAY_5']+data_credit_df['PAY_6']"
   ]
  },
  {
   "cell_type": "code",
   "execution_count": 138,
   "metadata": {},
   "outputs": [
    {
     "name": "stdout",
     "output_type": "stream",
     "text": [
      "0        4\n",
      "1        4\n",
      "2        0\n",
      "3        0\n",
      "4        0\n",
      "        ..\n",
      "29995    0\n",
      "29996    0\n",
      "29997    9\n",
      "29998    1\n",
      "29999    0\n",
      "Name: PAY_STATUS, Length: 30000, dtype: int64\n"
     ]
    }
   ],
   "source": [
    "print(data_credit_df['PAY_STATUS'])"
   ]
  },
  {
   "cell_type": "code",
   "execution_count": 139,
   "metadata": {},
   "outputs": [],
   "source": [
    "# Creating a dataframe where Pay_Status is greater than 0. So these are all the defaulter with delayed bill payment by different months.\n",
    "defaulters_df=data_credit_df[data_credit_df['PAY_STATUS']>0]"
   ]
  },
  {
   "cell_type": "code",
   "execution_count": 140,
   "metadata": {},
   "outputs": [
    {
     "name": "stdout",
     "output_type": "stream",
     "text": [
      "<class 'pandas.core.frame.DataFrame'>\n",
      "Int64Index: 10069 entries, 0 to 29998\n",
      "Data columns (total 36 columns):\n",
      "ID                                    10069 non-null int64\n",
      "LIMIT_BAL                             10069 non-null int64\n",
      "SEX                                   10069 non-null int64\n",
      "EDUCATION                             10069 non-null int64\n",
      "MARRIAGE                              10069 non-null int64\n",
      "AGE                                   10069 non-null int64\n",
      "PAY_0                                 10069 non-null int64\n",
      "PAY_2                                 10069 non-null int64\n",
      "PAY_3                                 10069 non-null int64\n",
      "PAY_4                                 10069 non-null int64\n",
      "PAY_5                                 10069 non-null int64\n",
      "PAY_6                                 10069 non-null int64\n",
      "BILL_AMT1                             10069 non-null int64\n",
      "BILL_AMT2                             10069 non-null int64\n",
      "BILL_AMT3                             10069 non-null int64\n",
      "BILL_AMT4                             10069 non-null int64\n",
      "BILL_AMT5                             10069 non-null int64\n",
      "BILL_AMT6                             10069 non-null int64\n",
      "PAY_AMT1                              10069 non-null int64\n",
      "PAY_AMT2                              10069 non-null int64\n",
      "PAY_AMT3                              10069 non-null int64\n",
      "PAY_AMT4                              10069 non-null int64\n",
      "PAY_AMT5                              10069 non-null int64\n",
      "PAY_AMT6                              10069 non-null int64\n",
      "default payment next month            10069 non-null int64\n",
      "OUTSTANDING_AMT1_SEP2005              10069 non-null int64\n",
      "OUTSTANDING_AMT2_AUG2005              10069 non-null int64\n",
      "OUTSTANDING_AMT3_JUL2005              10069 non-null int64\n",
      "OUTSTANDING_AMT4_JUN2005              10069 non-null int64\n",
      "OUTSTANDING_AMT5_MAY2005              10069 non-null int64\n",
      "OUTSTANDING_AMT6_APR2005              10069 non-null int64\n",
      "OUTSTANDING_AMT_CUMULATIVE            10069 non-null int64\n",
      "DEFAULT_INDICATOR_1                   10069 non-null int64\n",
      "DEFAULT_INDICATOR_1_FILTERED          10069 non-null bool\n",
      "DEFAULT_INDICATOR_1_FILTERED_CODED    10069 non-null int64\n",
      "PAY_STATUS                            10069 non-null int64\n",
      "dtypes: bool(1), int64(35)\n",
      "memory usage: 2.8 MB\n"
     ]
    }
   ],
   "source": [
    "defaulters_df.info()"
   ]
  },
  {
   "cell_type": "code",
   "execution_count": 141,
   "metadata": {},
   "outputs": [
    {
     "data": {
      "text/plain": [
       "<matplotlib.axes._subplots.AxesSubplot at 0x223d1fc3a88>"
      ]
     },
     "execution_count": 141,
     "metadata": {},
     "output_type": "execute_result"
    },
    {
     "data": {
      "image/png": "[encoded data removed]",
      "text/plain": [
       "<Figure size 432x288 with 1 Axes>"
      ]
     },
     "metadata": {
      "needs_background": "light"
     },
     "output_type": "display_data"
    }
   ],
   "source": [
    "# Now, finding the relationship between Outstanding amount and Pay status\n",
    "defaulters_df.plot.scatter(x='PAY_STATUS', y='OUTSTANDING_AMT_CUMULATIVE')"
   ]
  },
  {
   "cell_type": "code",
   "execution_count": 142,
   "metadata": {},
   "outputs": [
    {
     "data": {
      "text/plain": [
       "0.15436882668385485"
      ]
     },
     "execution_count": 142,
     "metadata": {},
     "output_type": "execute_result"
    }
   ],
   "source": [
    "defaulters_df['PAY_STATUS'].corr(defaulters_df['OUTSTANDING_AMT_CUMULATIVE'])"
   ]
  },
  {
   "cell_type": "code",
   "execution_count": 143,
   "metadata": {},
   "outputs": [],
   "source": [
    "# The above scatter plot and r value (0.154) shows slight positive correlation of Outstanding amount and Pay Status"
   ]
  },
  {
   "cell_type": "code",
   "execution_count": 144,
   "metadata": {},
   "outputs": [],
   "source": [
    "#  Does outstanding amount / trend affect the default behavior in next month.\n",
    "# The below scatter plot and r value shows no relation between Outstanding Value and 'default payment next month'"
   ]
  },
  {
   "cell_type": "code",
   "execution_count": 145,
   "metadata": {},
   "outputs": [
    {
     "data": {
      "text/plain": [
       "<matplotlib.axes._subplots.AxesSubplot at 0x223d1792288>"
      ]
     },
     "execution_count": 145,
     "metadata": {},
     "output_type": "execute_result"
    },
    {
     "data": {
      "image/png": "[encoded data removed]",
      "text/plain": [
       "<Figure size 432x288 with 1 Axes>"
      ]
     },
     "metadata": {
      "needs_background": "light"
     },
     "output_type": "display_data"
    }
   ],
   "source": [
    "data_credit_df.plot.scatter(x='default payment next month', y='OUTSTANDING_AMT_CUMULATIVE')"
   ]
  },
  {
   "cell_type": "code",
   "execution_count": 146,
   "metadata": {},
   "outputs": [
    {
     "data": {
      "text/plain": [
       "0.0038792064525704426"
      ]
     },
     "execution_count": 146,
     "metadata": {},
     "output_type": "execute_result"
    }
   ],
   "source": [
    "data_credit_df['default payment next month'].corr(data_credit_df['OUTSTANDING_AMT_CUMULATIVE'])"
   ]
  },
  {
   "cell_type": "code",
   "execution_count": 147,
   "metadata": {},
   "outputs": [],
   "source": [
    "# TO DO: MODELLING TASK\n",
    "# Develop a predictive model (more than 90% accurate) to predict chance of default (credit score of customer) in next month based on available information. • Develop dashboard to present model statistics\n"
   ]
  },
  {
   "cell_type": "code",
   "execution_count": null,
   "metadata": {},
   "outputs": [],
   "source": []
  },
  {
   "cell_type": "code",
   "execution_count": null,
   "metadata": {},
   "outputs": [],
   "source": []
  }
 ],
 "metadata": {
  "kernelspec": {
   "display_name": "Python 3",
   "language": "python",
   "name": "python3"
  },
  "language_info": {
   "codemirror_mode": {
    "name": "ipython",
    "version": 3
   },
   "file_extension": ".py",
   "mimetype": "text/x-python",
   "name": "python",
   "nbconvert_exporter": "python",
   "pygments_lexer": "ipython3",
   "version": "3.7.0"
  }
 },
 "nbformat": 4,
 "nbformat_minor": 2
}
